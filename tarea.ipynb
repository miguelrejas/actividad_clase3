{
 "cells": [
  {
   "cell_type": "code",
   "execution_count": 2,
   "metadata": {},
   "outputs": [
    {
     "name": "stdout",
     "output_type": "stream",
     "text": [
      "['manzanas', 'peras', 'naranjas']\n",
      "['manzanas', 'peras', 'naranjas', 'ciruelas']\n"
     ]
    }
   ],
   "source": [
    "frutas =[\"manzanas\",\"peras\",\"naranjas\"]\n",
    "print (frutas)\n",
    "frutas.append(\"ciruelas\")\n",
    "print (frutas)"
   ]
  },
  {
   "cell_type": "markdown",
   "metadata": {},
   "source": [
    "# Lista de Frutas\n",
    "### el programa escribe una lista de frutas\n",
    "* manzanas\n",
    "* peras\n",
    "* naranjas"
   ]
  },
  {
   "cell_type": "markdown",
   "metadata": {},
   "source": [
    "### agrego ciruelas"
   ]
  }
 ],
 "metadata": {
  "kernelspec": {
   "display_name": "Python 3",
   "language": "python",
   "name": "python3"
  },
  "language_info": {
   "codemirror_mode": {
    "name": "ipython",
    "version": 3
   },
   "file_extension": ".py",
   "mimetype": "text/x-python",
   "name": "python",
   "nbconvert_exporter": "python",
   "pygments_lexer": "ipython3",
   "version": "3.12.3"
  }
 },
 "nbformat": 4,
 "nbformat_minor": 2
}
