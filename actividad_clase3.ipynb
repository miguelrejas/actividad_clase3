{
 "cells": [
  {
   "cell_type": "code",
   "execution_count": 25,
   "metadata": {},
   "outputs": [
    {
     "name": "stdout",
     "output_type": "stream",
     "text": [
      "rio grande\n",
      "miguel\n",
      "[1, 2, 3, 4, 5, 6]\n",
      "[1, 2, 3, 4, 5, 6, 7]\n",
      "[1, 2, 3, 4, 5, 6, 7, 9, 10, 11]\n",
      "[1, 2, 3, 4, 5, 6, 7, 8, 9, 10, 11]\n",
      "[1, 2, 3, 4, 5, 6, 7, 8, 9, 10, 11]\n",
      "1000\n",
      "[{'titulo': 'el diente de leche', 'autor': 'raton perez', 'año de publicacion': 1930}, {'titulo': 'la delgada linea blanca', 'autor': 'diego maradona', 'año de publicacion': 2010}, {'titulo': 'el arte de entretener', 'autor': 'carlos bala', 'año de publicacion': 1980}]\n",
      "[{'titulo': 'el diente de leche', 'autor': 'raton perez', 'año de publicacion': 1950}, {'titulo': 'la delgada linea blanca', 'autor': 'diego maradona', 'año de publicacion': 2010}, {'titulo': 'el arte de entretener', 'autor': 'carlos bala', 'año de publicacion': 1980}]\n",
      "{'miguel': ['matematicas', 'fisica', 'algebra'], 'daniel': ['matematicas', 'quimica', 'ingles'], 'ana': ['programacion', 'quimica', 'algebra']}\n",
      "{'miguel': ['biologia', 'fisica', 'algebra'], 'daniel': ['matematicas', 'quimica', 'ingles'], 'ana': ['programacion', 'quimica', 'algebra']}\n"
     ]
    }
   ],
   "source": [
    "ciudades = [\"bariloche\",\"rio grande\",\"buenos aires\"]\n",
    "empleados ={'nombre':'miguel','cargo':'gerente','sueldo':150000}\n",
    "\n",
    "print (ciudades[1])\n",
    "print (empleados['nombre'])\n",
    "numeros = [1,2,3,4,5,6]\n",
    "print (numeros)\n",
    "numeros.append(7)\n",
    "print (numeros)\n",
    "numeros2 =[9,10,11]\n",
    "numeros.extend(numeros2)\n",
    "print (numeros)\n",
    "numeros.insert(7,8)\n",
    "print (numeros)\n",
    "numeros.sort()\n",
    "print (numeros)\n",
    "productos ={'nombreproducto':'martillo','precio':1000,'stock':15}\n",
    "productos.keys()\n",
    "productos.values()\n",
    "productos.items()\n",
    "precio =productos.get('precio')\n",
    "print(precio)\n",
    "libros = [\n",
    "          {\"titulo\":\"el diente de leche\",\"autor\":\"raton perez\",\"año de publicacion\":1930},\n",
    "          {\"titulo\":\"la delgada linea blanca\",\"autor\":\"diego maradona\",\"año de publicacion\":2010},\n",
    "          {\"titulo\":\"el arte de entretener\",\"autor\":\"carlos bala\",\"año de publicacion\":1980}\n",
    "          ]\n",
    "print (libros)\n",
    "libros [0][\"año de publicacion\"]=1950\n",
    "print (libros)\n",
    "estudiantes_materias= {\n",
    "                       \"miguel\":[\"matematicas\",\"fisica\",\"algebra\"],\n",
    "                       \"daniel\":[\"matematicas\",\"quimica\",\"ingles\"],\n",
    "                       \"ana\":[\"programacion\",\"quimica\",\"algebra\"],\n",
    "}\n",
    "print(estudiantes_materias)\n",
    "estudiantes_materias[\"miguel\"][0]=\"biologia\"\n",
    "print(estudiantes_materias)"
   ]
  },
  {
   "cell_type": "markdown",
   "metadata": {},
   "source": [
    "\n",
    "\n",
    "# TAREA 1\n",
    "\n",
    "\n",
    "## Datos Simples:\n",
    "\n",
    "* Crear una lista de nombres de ciudades.\n",
    "* Crear un diccionario con información de empleados (nombre, cargo, salario).\n",
    "* Mostrar cómo acceder a un elemento específico en una lista y en un diccionario.\n",
    " \n",
    "## Manipulación de Listas y Métodos:\n",
    "\n",
    "* Crea una lista inicial de números enteros.\n",
    "* Utiliza el método .append() para agregar un número al final de la lista.\n",
    "* Utiliza el método .extend() para agregar múltiples elementos a la lista.\n",
    "* Utiliza el método .insert() para insertar un número en una posición específica de la lista.\n",
    "* Muestra cómo utilizar el método .sort() para ordenar la lista de números de forma ascendente.\n",
    "\n",
    "## Manipulación de Diccionarios y Métodos:\n",
    "\n",
    "* Crea un diccionario con información de productos (nombre del producto, precio, cantidad en stock).\n",
    "* Utiliza el método .keys() para obtener una lista de las llaves (nombres de productos) en el diccionario.\n",
    "* Utiliza el método .values() para obtener una lista de los valores (precios y cantidades) en el diccionario.\n",
    "* Utiliza el método .items() para obtener una lista de tuplas con pares clave-valor del diccionario.\n",
    "* Muestra cómo utilizar el método .get() para obtener el precio de un producto específico del diccionario.\n",
    "\n",
    "## Datos Complejos:\n",
    "\n",
    "* Crear una lista de diccionarios que represente información de libros (título, autor, año de publicación).\n",
    "* Crear un diccionario que contenga listas como valores (por ejemplo, un diccionario de estudiantes y sus materias).\n",
    "* Mostrar cómo modificar un valor en una lista dentro de un diccionario y viceversa."
   ]
  },
  {
   "cell_type": "markdown",
   "metadata": {},
   "source": []
  }
 ],
 "metadata": {
  "kernelspec": {
   "display_name": "Python 3",
   "language": "python",
   "name": "python3"
  },
  "language_info": {
   "codemirror_mode": {
    "name": "ipython",
    "version": 3
   },
   "file_extension": ".py",
   "mimetype": "text/x-python",
   "name": "python",
   "nbconvert_exporter": "python",
   "pygments_lexer": "ipython3",
   "version": "3.12.3"
  }
 },
 "nbformat": 4,
 "nbformat_minor": 2
}
